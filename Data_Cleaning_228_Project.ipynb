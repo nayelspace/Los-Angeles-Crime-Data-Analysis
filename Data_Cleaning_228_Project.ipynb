{
  "cells": [
    {
      "cell_type": "code",
      "execution_count": null,
      "id": "2d0b9a10",
      "metadata": {
        "id": "2d0b9a10"
      },
      "outputs": [],
      "source": [
        "import pandas as pd"
      ]
    },
    {
      "cell_type": "code",
      "execution_count": null,
      "id": "14945f40",
      "metadata": {
        "id": "14945f40"
      },
      "outputs": [],
      "source": [
        "df = pd.read_csv(\"raw_dataset.csv\")"
      ]
    },
    {
      "cell_type": "code",
      "execution_count": null,
      "id": "3d299d6a",
      "metadata": {
        "id": "3d299d6a"
      },
      "outputs": [],
      "source": [
        "df = df.drop(['DR_NO', 'Rpt Dist No', 'Part 1-2', 'Mocodes',\n",
        "             'Crm Cd 1', 'Crm Cd 2', 'Crm Cd 3', 'Crm Cd 4', 'Cross Street'], axis = 1)"
      ]
    },
    {
      "cell_type": "code",
      "execution_count": null,
      "id": "74463851",
      "metadata": {
        "id": "74463851",
        "outputId": "7d9e8f8a-5dd8-4aed-b6e0-d6bc91506b99"
      },
      "outputs": [
        {
          "data": {
            "text/plain": [
              "Date Rptd          object\n",
              "DATE OCC           object\n",
              "TIME OCC            int64\n",
              "AREA                int64\n",
              "AREA NAME          object\n",
              "Crm Cd              int64\n",
              "Crm Cd Desc        object\n",
              "Vict Age            int64\n",
              "Vict Sex           object\n",
              "Vict Descent       object\n",
              "Premis Cd         float64\n",
              "Premis Desc        object\n",
              "Weapon Used Cd    float64\n",
              "Weapon Desc        object\n",
              "Status             object\n",
              "Status Desc        object\n",
              "LOCATION           object\n",
              "LAT               float64\n",
              "LON               float64\n",
              "dtype: object"
            ]
          },
          "execution_count": 4,
          "metadata": {},
          "output_type": "execute_result"
        }
      ],
      "source": [
        "df.dtypes"
      ]
    },
    {
      "cell_type": "code",
      "execution_count": null,
      "id": "1c04aa32",
      "metadata": {
        "id": "1c04aa32"
      },
      "outputs": [],
      "source": [
        "df['Date Rptd'] = pd.to_datetime(df['Date Rptd']).dt.floor('D')\n",
        "df['DATE OCC'] = pd.to_datetime(df['DATE OCC']).dt.floor('D')"
      ]
    },
    {
      "cell_type": "code",
      "execution_count": null,
      "id": "174deb6b",
      "metadata": {
        "id": "174deb6b"
      },
      "outputs": [],
      "source": [
        "df['TIME OCC'] = df['TIME OCC'].astype(str).str.zfill(4)\n",
        "df['TIME OCC'] = df['TIME OCC'].str[:2] + ':' + df['TIME OCC'].str[2:]"
      ]
    },
    {
      "cell_type": "code",
      "execution_count": null,
      "id": "2ed3499e",
      "metadata": {
        "id": "2ed3499e",
        "outputId": "59edef04-6d5a-4201-c96b-d7838538411e"
      },
      "outputs": [
        {
          "name": "stdout",
          "output_type": "stream",
          "text": [
            "Date Rptd: 0 null values\n",
            "DATE OCC: 0 null values\n",
            "TIME OCC: 0 null values\n",
            "AREA: 0 null values\n",
            "AREA NAME: 0 null values\n",
            "Crm Cd: 0 null values\n",
            "Crm Cd Desc: 0 null values\n",
            "Vict Age: 0 null values\n",
            "Vict Sex: 289408 null values\n",
            "Vict Descent: 289460 null values\n",
            "Premis Cd: 61 null values\n",
            "Premis Desc: 572 null values\n",
            "Weapon Used Cd: 1869579 null values\n",
            "Weapon Desc: 1869580 null values\n",
            "Status: 3 null values\n",
            "Status Desc: 0 null values\n",
            "LOCATION: 0 null values\n",
            "LAT: 0 null values\n",
            "LON: 0 null values\n"
          ]
        }
      ],
      "source": [
        "# Count null values in each column and print the result\n",
        "null_counts = df.isnull().sum()\n",
        "for column, null_count in null_counts.items():\n",
        "    print(f\"{column}: {null_count} null values\")"
      ]
    },
    {
      "cell_type": "code",
      "execution_count": null,
      "id": "973b73ac",
      "metadata": {
        "id": "973b73ac"
      },
      "outputs": [],
      "source": [
        "import numpy as np\n",
        "\n",
        "df.loc[df['Vict Age'] <= 0, 'Vict Age'] = np.nan"
      ]
    },
    {
      "cell_type": "code",
      "execution_count": null,
      "id": "34c18fb7",
      "metadata": {
        "id": "34c18fb7",
        "outputId": "bd2f57a4-e8cf-4624-fde1-ba8a7e5b184c"
      },
      "outputs": [
        {
          "data": {
            "text/plain": [
              "M    1269889\n",
              "F    1153590\n",
              "X     114821\n",
              "H        155\n",
              "N         17\n",
              "-          1\n",
              "Name: Vict Sex, dtype: int64"
            ]
          },
          "execution_count": 9,
          "metadata": {},
          "output_type": "execute_result"
        }
      ],
      "source": [
        "df['Vict Sex'].value_counts()"
      ]
    },
    {
      "cell_type": "code",
      "execution_count": null,
      "id": "78339172",
      "metadata": {
        "id": "78339172"
      },
      "outputs": [],
      "source": [
        "df.loc[df['Vict Sex'].isin(['H', 'N', '-']), 'Vict Sex'] = 'X'"
      ]
    },
    {
      "cell_type": "code",
      "execution_count": null,
      "id": "5c605106",
      "metadata": {
        "id": "5c605106"
      },
      "outputs": [],
      "source": [
        "df['Vict Sex'].fillna(value = 'N/A', inplace = True)"
      ]
    },
    {
      "cell_type": "code",
      "execution_count": null,
      "id": "98f2983a",
      "metadata": {
        "id": "98f2983a"
      },
      "outputs": [],
      "source": [
        "df['Vict Descent'] = df['Vict Descent'].fillna('N/A')"
      ]
    },
    {
      "cell_type": "code",
      "execution_count": null,
      "id": "ab63282e",
      "metadata": {
        "id": "ab63282e",
        "outputId": "21277ddb-a518-4ccb-ca55-021901d1f46f"
      },
      "outputs": [
        {
          "data": {
            "text/plain": [
              "H      945254\n",
              "W      657057\n",
              "B      437975\n",
              "N/A    289460\n",
              "O      259316\n",
              "X      144498\n",
              "A       66648\n",
              "K       12893\n",
              "F        5491\n",
              "C        3670\n",
              "I        1632\n",
              "J        1395\n",
              "V         909\n",
              "P         534\n",
              "Z         477\n",
              "U         330\n",
              "G         133\n",
              "D          72\n",
              "S          71\n",
              "L          62\n",
              "-           4\n",
              "Name: Vict Descent, dtype: int64"
            ]
          },
          "execution_count": 13,
          "metadata": {},
          "output_type": "execute_result"
        }
      ],
      "source": [
        "df['Vict Descent'].value_counts()"
      ]
    },
    {
      "cell_type": "code",
      "execution_count": null,
      "id": "e339b976",
      "metadata": {
        "id": "e339b976"
      },
      "outputs": [],
      "source": [
        "vict_descent_codes = {\n",
        "    'A': 'Other Asian',\n",
        "    'B': 'Black',\n",
        "    'C': 'Chinese',\n",
        "    'D': 'Cambodian',\n",
        "    'F': 'Filipino',\n",
        "    'G': 'Guamanian',\n",
        "    'H': 'Hispanic/Latin/Mexican',\n",
        "    'I': 'American Indian/Alaskan Native',\n",
        "    'J': 'Japanese',\n",
        "    'K': 'Korean',\n",
        "    'L': 'Laotian',\n",
        "    'N/A': 'N/A',\n",
        "    'O': 'Other',\n",
        "    'P': 'Pacific Islander',\n",
        "    'S': 'Samoan',\n",
        "    'U': 'Hawaiian',\n",
        "    'V': 'Vietnamese',\n",
        "    'W': 'White',\n",
        "    'X': 'Unknown',\n",
        "    'Z': 'Asian Indian',\n",
        "    '-': 'Unknown'\n",
        "}\n",
        "\n",
        "df['Vict Descent'] = df['Vict Descent'].map(vict_descent_codes)"
      ]
    },
    {
      "cell_type": "code",
      "execution_count": null,
      "id": "8f40831b",
      "metadata": {
        "id": "8f40831b",
        "outputId": "6ba4810f-0b12-4466-ff3f-5d5da8c73d54"
      },
      "outputs": [
        {
          "data": {
            "text/html": [
              "<div>\n",
              "<style scoped>\n",
              "    .dataframe tbody tr th:only-of-type {\n",
              "        vertical-align: middle;\n",
              "    }\n",
              "\n",
              "    .dataframe tbody tr th {\n",
              "        vertical-align: top;\n",
              "    }\n",
              "\n",
              "    .dataframe thead th {\n",
              "        text-align: right;\n",
              "    }\n",
              "</style>\n",
              "<table border=\"1\" class=\"dataframe\">\n",
              "  <thead>\n",
              "    <tr style=\"text-align: right;\">\n",
              "      <th></th>\n",
              "      <th>Date Rptd</th>\n",
              "      <th>DATE OCC</th>\n",
              "      <th>TIME OCC</th>\n",
              "      <th>AREA</th>\n",
              "      <th>AREA NAME</th>\n",
              "      <th>Crm Cd</th>\n",
              "      <th>Crm Cd Desc</th>\n",
              "      <th>Vict Age</th>\n",
              "      <th>Vict Sex</th>\n",
              "      <th>Vict Descent</th>\n",
              "      <th>Premis Cd</th>\n",
              "      <th>Premis Desc</th>\n",
              "      <th>Weapon Used Cd</th>\n",
              "      <th>Weapon Desc</th>\n",
              "      <th>Status</th>\n",
              "      <th>Status Desc</th>\n",
              "      <th>LOCATION</th>\n",
              "      <th>LAT</th>\n",
              "      <th>LON</th>\n",
              "    </tr>\n",
              "  </thead>\n",
              "  <tbody>\n",
              "  </tbody>\n",
              "</table>\n",
              "</div>"
            ],
            "text/plain": [
              "Empty DataFrame\n",
              "Columns: [Date Rptd, DATE OCC, TIME OCC, AREA, AREA NAME, Crm Cd, Crm Cd Desc, Vict Age, Vict Sex, Vict Descent, Premis Cd, Premis Desc, Weapon Used Cd, Weapon Desc, Status, Status Desc, LOCATION, LAT, LON]\n",
              "Index: []"
            ]
          },
          "execution_count": 15,
          "metadata": {},
          "output_type": "execute_result"
        }
      ],
      "source": [
        "df[df['Vict Descent'].isnull()]"
      ]
    },
    {
      "cell_type": "code",
      "execution_count": null,
      "id": "30286f1d",
      "metadata": {
        "id": "30286f1d"
      },
      "outputs": [],
      "source": [
        "df['Premis Cd'] = df['Premis Cd'].fillna(0)"
      ]
    },
    {
      "cell_type": "code",
      "execution_count": null,
      "id": "ef3a3dad",
      "metadata": {
        "id": "ef3a3dad"
      },
      "outputs": [],
      "source": [
        "df['Premis Desc'] = df['Premis Desc'].fillna('UNKNOWN')"
      ]
    },
    {
      "cell_type": "code",
      "execution_count": null,
      "id": "cd8a0303",
      "metadata": {
        "id": "cd8a0303",
        "outputId": "63f9c563-f99b-4b2d-cf1d-501d4d59705d"
      },
      "outputs": [
        {
          "data": {
            "text/html": [
              "<div>\n",
              "<style scoped>\n",
              "    .dataframe tbody tr th:only-of-type {\n",
              "        vertical-align: middle;\n",
              "    }\n",
              "\n",
              "    .dataframe tbody tr th {\n",
              "        vertical-align: top;\n",
              "    }\n",
              "\n",
              "    .dataframe thead th {\n",
              "        text-align: right;\n",
              "    }\n",
              "</style>\n",
              "<table border=\"1\" class=\"dataframe\">\n",
              "  <thead>\n",
              "    <tr style=\"text-align: right;\">\n",
              "      <th></th>\n",
              "      <th>Date Rptd</th>\n",
              "      <th>DATE OCC</th>\n",
              "      <th>TIME OCC</th>\n",
              "      <th>AREA</th>\n",
              "      <th>AREA NAME</th>\n",
              "      <th>Crm Cd</th>\n",
              "      <th>Crm Cd Desc</th>\n",
              "      <th>Vict Age</th>\n",
              "      <th>Vict Sex</th>\n",
              "      <th>Vict Descent</th>\n",
              "      <th>Premis Cd</th>\n",
              "      <th>Premis Desc</th>\n",
              "      <th>Weapon Used Cd</th>\n",
              "      <th>Weapon Desc</th>\n",
              "      <th>Status</th>\n",
              "      <th>Status Desc</th>\n",
              "      <th>LOCATION</th>\n",
              "      <th>LAT</th>\n",
              "      <th>LON</th>\n",
              "    </tr>\n",
              "  </thead>\n",
              "  <tbody>\n",
              "    <tr>\n",
              "      <th>123504</th>\n",
              "      <td>2010-07-26</td>\n",
              "      <td>2010-07-25</td>\n",
              "      <td>03:35</td>\n",
              "      <td>21</td>\n",
              "      <td>Topanga</td>\n",
              "      <td>230</td>\n",
              "      <td>ASSAULT WITH DEADLY WEAPON, AGGRAVATED ASSAULT</td>\n",
              "      <td>22.0</td>\n",
              "      <td>M</td>\n",
              "      <td>Hispanic/Latin/Mexican</td>\n",
              "      <td>502.0</td>\n",
              "      <td>MULTI-UNIT DWELLING (APARTMENT, DUPLEX, ETC)</td>\n",
              "      <td>222.0</td>\n",
              "      <td>NaN</td>\n",
              "      <td>IC</td>\n",
              "      <td>Invest Cont</td>\n",
              "      <td>7300    VARIEL                       AV</td>\n",
              "      <td>34.2029</td>\n",
              "      <td>-118.5929</td>\n",
              "    </tr>\n",
              "  </tbody>\n",
              "</table>\n",
              "</div>"
            ],
            "text/plain": [
              "        Date Rptd   DATE OCC TIME OCC  AREA AREA NAME  Crm Cd  \\\n",
              "123504 2010-07-26 2010-07-25    03:35    21   Topanga     230   \n",
              "\n",
              "                                           Crm Cd Desc  Vict Age Vict Sex  \\\n",
              "123504  ASSAULT WITH DEADLY WEAPON, AGGRAVATED ASSAULT      22.0        M   \n",
              "\n",
              "                  Vict Descent  Premis Cd  \\\n",
              "123504  Hispanic/Latin/Mexican      502.0   \n",
              "\n",
              "                                         Premis Desc  Weapon Used Cd  \\\n",
              "123504  MULTI-UNIT DWELLING (APARTMENT, DUPLEX, ETC)           222.0   \n",
              "\n",
              "       Weapon Desc Status  Status Desc  \\\n",
              "123504         NaN     IC  Invest Cont   \n",
              "\n",
              "                                       LOCATION      LAT       LON  \n",
              "123504  7300    VARIEL                       AV  34.2029 -118.5929  "
            ]
          },
          "execution_count": 18,
          "metadata": {},
          "output_type": "execute_result"
        }
      ],
      "source": [
        "df[df['Weapon Used Cd'] == 222]"
      ]
    },
    {
      "cell_type": "code",
      "execution_count": null,
      "id": "de59b7f5",
      "metadata": {
        "id": "de59b7f5"
      },
      "outputs": [],
      "source": [
        "df = df[df['Weapon Used Cd'] != 222]"
      ]
    },
    {
      "cell_type": "code",
      "execution_count": null,
      "id": "9c7ae49d",
      "metadata": {
        "id": "9c7ae49d"
      },
      "outputs": [],
      "source": [
        "df['Weapon Desc'] = df['Weapon Desc'].fillna('N/A')"
      ]
    },
    {
      "cell_type": "code",
      "execution_count": null,
      "id": "9230e594",
      "metadata": {
        "id": "9230e594"
      },
      "outputs": [],
      "source": [
        "df['Weapon Used Cd'] = df['Weapon Used Cd'].fillna(0)"
      ]
    },
    {
      "cell_type": "code",
      "execution_count": null,
      "id": "c478b91f",
      "metadata": {
        "id": "c478b91f"
      },
      "outputs": [],
      "source": [
        "df.loc[df['Status Desc'] == 'UNK', 'Status'] = 'CC'"
      ]
    },
    {
      "cell_type": "code",
      "execution_count": null,
      "id": "82e6c5be",
      "metadata": {
        "id": "82e6c5be"
      },
      "outputs": [],
      "source": [
        "df = df[(df['LAT'] != 0) & (df['LON'] != 0)]"
      ]
    },
    {
      "cell_type": "code",
      "execution_count": null,
      "id": "f5762525",
      "metadata": {
        "id": "f5762525",
        "outputId": "5c747a36-a05b-4532-fdcf-2d38c268769e"
      },
      "outputs": [
        {
          "data": {
            "text/plain": [
              "Date Rptd              0\n",
              "DATE OCC               0\n",
              "TIME OCC               0\n",
              "AREA                   0\n",
              "AREA NAME              0\n",
              "Crm Cd                 0\n",
              "Crm Cd Desc            0\n",
              "Vict Age          542153\n",
              "Vict Sex               0\n",
              "Vict Descent           0\n",
              "Premis Cd              0\n",
              "Premis Desc            0\n",
              "Weapon Used Cd         0\n",
              "Weapon Desc            0\n",
              "Status                 0\n",
              "Status Desc            0\n",
              "LOCATION               0\n",
              "LAT                    0\n",
              "LON                    0\n",
              "dtype: int64"
            ]
          },
          "execution_count": 24,
          "metadata": {},
          "output_type": "execute_result"
        }
      ],
      "source": [
        "df.isnull().sum()"
      ]
    },
    {
      "cell_type": "code",
      "execution_count": null,
      "id": "3e2dbf82",
      "metadata": {
        "id": "3e2dbf82",
        "outputId": "1e8196c2-e828-4159-b18b-a9f2ec023cf1"
      },
      "outputs": [
        {
          "name": "stdout",
          "output_type": "stream",
          "text": [
            "<class 'pandas.core.frame.DataFrame'>\n",
            "Int64Index: 2824707 entries, 0 to 2827880\n",
            "Data columns (total 19 columns):\n",
            " #   Column          Dtype         \n",
            "---  ------          -----         \n",
            " 0   Date Rptd       datetime64[ns]\n",
            " 1   DATE OCC        datetime64[ns]\n",
            " 2   TIME OCC        object        \n",
            " 3   AREA            int64         \n",
            " 4   AREA NAME       object        \n",
            " 5   Crm Cd          int64         \n",
            " 6   Crm Cd Desc     object        \n",
            " 7   Vict Age        float64       \n",
            " 8   Vict Sex        object        \n",
            " 9   Vict Descent    object        \n",
            " 10  Premis Cd       float64       \n",
            " 11  Premis Desc     object        \n",
            " 12  Weapon Used Cd  float64       \n",
            " 13  Weapon Desc     object        \n",
            " 14  Status          object        \n",
            " 15  Status Desc     object        \n",
            " 16  LOCATION        object        \n",
            " 17  LAT             float64       \n",
            " 18  LON             float64       \n",
            "dtypes: datetime64[ns](2), float64(5), int64(2), object(10)\n",
            "memory usage: 431.0+ MB\n"
          ]
        }
      ],
      "source": [
        "df.info()"
      ]
    },
    {
      "cell_type": "code",
      "execution_count": null,
      "id": "30c0ffc8",
      "metadata": {
        "id": "30c0ffc8"
      },
      "outputs": [],
      "source": [
        "df = df.drop_duplicates()"
      ]
    },
    {
      "cell_type": "code",
      "execution_count": null,
      "id": "bd22f425",
      "metadata": {
        "id": "bd22f425"
      },
      "outputs": [],
      "source": [
        "df.to_csv(\"cleaned_v3.csv\", index=False)"
      ]
    },
    {
      "cell_type": "code",
      "execution_count": null,
      "id": "ff92f010",
      "metadata": {
        "id": "ff92f010",
        "outputId": "c9ec2975-a626-4b85-8a4e-58269d4175e3"
      },
      "outputs": [
        {
          "data": {
            "text/html": [
              "<div>\n",
              "<style scoped>\n",
              "    .dataframe tbody tr th:only-of-type {\n",
              "        vertical-align: middle;\n",
              "    }\n",
              "\n",
              "    .dataframe tbody tr th {\n",
              "        vertical-align: top;\n",
              "    }\n",
              "\n",
              "    .dataframe thead th {\n",
              "        text-align: right;\n",
              "    }\n",
              "</style>\n",
              "<table border=\"1\" class=\"dataframe\">\n",
              "  <thead>\n",
              "    <tr style=\"text-align: right;\">\n",
              "      <th></th>\n",
              "      <th>Date Rptd</th>\n",
              "      <th>DATE OCC</th>\n",
              "      <th>TIME OCC</th>\n",
              "      <th>AREA</th>\n",
              "      <th>AREA NAME</th>\n",
              "      <th>Crm Cd</th>\n",
              "      <th>Crm Cd Desc</th>\n",
              "      <th>Vict Age</th>\n",
              "      <th>Vict Sex</th>\n",
              "      <th>Vict Descent</th>\n",
              "      <th>Premis Cd</th>\n",
              "      <th>Premis Desc</th>\n",
              "      <th>Weapon Used Cd</th>\n",
              "      <th>Weapon Desc</th>\n",
              "      <th>Status</th>\n",
              "      <th>Status Desc</th>\n",
              "      <th>LOCATION</th>\n",
              "      <th>LAT</th>\n",
              "      <th>LON</th>\n",
              "    </tr>\n",
              "  </thead>\n",
              "  <tbody>\n",
              "    <tr>\n",
              "      <th>0</th>\n",
              "      <td>2010-02-20</td>\n",
              "      <td>2010-02-20</td>\n",
              "      <td>13:50</td>\n",
              "      <td>13</td>\n",
              "      <td>Newton</td>\n",
              "      <td>900</td>\n",
              "      <td>VIOLATION OF COURT ORDER</td>\n",
              "      <td>48.0</td>\n",
              "      <td>M</td>\n",
              "      <td>Hispanic/Latin/Mexican</td>\n",
              "      <td>501.0</td>\n",
              "      <td>SINGLE FAMILY DWELLING</td>\n",
              "      <td>0.0</td>\n",
              "      <td>N/A</td>\n",
              "      <td>AA</td>\n",
              "      <td>Adult Arrest</td>\n",
              "      <td>300 E  GAGE                         AV</td>\n",
              "      <td>33.9825</td>\n",
              "      <td>-118.2695</td>\n",
              "    </tr>\n",
              "    <tr>\n",
              "      <th>1</th>\n",
              "      <td>2010-09-13</td>\n",
              "      <td>2010-09-12</td>\n",
              "      <td>00:45</td>\n",
              "      <td>14</td>\n",
              "      <td>Pacific</td>\n",
              "      <td>740</td>\n",
              "      <td>VANDALISM - FELONY ($400 &amp; OVER, ALL CHURCH VA...</td>\n",
              "      <td>NaN</td>\n",
              "      <td>M</td>\n",
              "      <td>White</td>\n",
              "      <td>101.0</td>\n",
              "      <td>STREET</td>\n",
              "      <td>0.0</td>\n",
              "      <td>N/A</td>\n",
              "      <td>IC</td>\n",
              "      <td>Invest Cont</td>\n",
              "      <td>SEPULVEDA                    BL</td>\n",
              "      <td>33.9599</td>\n",
              "      <td>-118.3962</td>\n",
              "    </tr>\n",
              "    <tr>\n",
              "      <th>2</th>\n",
              "      <td>2010-08-09</td>\n",
              "      <td>2010-08-09</td>\n",
              "      <td>15:15</td>\n",
              "      <td>13</td>\n",
              "      <td>Newton</td>\n",
              "      <td>946</td>\n",
              "      <td>OTHER MISCELLANEOUS CRIME</td>\n",
              "      <td>NaN</td>\n",
              "      <td>M</td>\n",
              "      <td>Hispanic/Latin/Mexican</td>\n",
              "      <td>103.0</td>\n",
              "      <td>ALLEY</td>\n",
              "      <td>0.0</td>\n",
              "      <td>N/A</td>\n",
              "      <td>IC</td>\n",
              "      <td>Invest Cont</td>\n",
              "      <td>1300 E  21ST                         ST</td>\n",
              "      <td>34.0224</td>\n",
              "      <td>-118.2524</td>\n",
              "    </tr>\n",
              "    <tr>\n",
              "      <th>3</th>\n",
              "      <td>2010-01-05</td>\n",
              "      <td>2010-01-05</td>\n",
              "      <td>01:50</td>\n",
              "      <td>6</td>\n",
              "      <td>Hollywood</td>\n",
              "      <td>900</td>\n",
              "      <td>VIOLATION OF COURT ORDER</td>\n",
              "      <td>47.0</td>\n",
              "      <td>F</td>\n",
              "      <td>White</td>\n",
              "      <td>101.0</td>\n",
              "      <td>STREET</td>\n",
              "      <td>102.0</td>\n",
              "      <td>HAND GUN</td>\n",
              "      <td>IC</td>\n",
              "      <td>Invest Cont</td>\n",
              "      <td>CAHUENGA                     BL</td>\n",
              "      <td>34.1016</td>\n",
              "      <td>-118.3295</td>\n",
              "    </tr>\n",
              "    <tr>\n",
              "      <th>4</th>\n",
              "      <td>2010-01-03</td>\n",
              "      <td>2010-01-02</td>\n",
              "      <td>21:00</td>\n",
              "      <td>1</td>\n",
              "      <td>Central</td>\n",
              "      <td>122</td>\n",
              "      <td>RAPE, ATTEMPTED</td>\n",
              "      <td>47.0</td>\n",
              "      <td>F</td>\n",
              "      <td>Hispanic/Latin/Mexican</td>\n",
              "      <td>103.0</td>\n",
              "      <td>ALLEY</td>\n",
              "      <td>400.0</td>\n",
              "      <td>STRONG-ARM (HANDS, FIST, FEET OR BODILY FORCE)</td>\n",
              "      <td>IC</td>\n",
              "      <td>Invest Cont</td>\n",
              "      <td>8TH                          ST</td>\n",
              "      <td>34.0387</td>\n",
              "      <td>-118.2488</td>\n",
              "    </tr>\n",
              "  </tbody>\n",
              "</table>\n",
              "</div>"
            ],
            "text/plain": [
              "   Date Rptd   DATE OCC TIME OCC  AREA  AREA NAME  Crm Cd  \\\n",
              "0 2010-02-20 2010-02-20    13:50    13     Newton     900   \n",
              "1 2010-09-13 2010-09-12    00:45    14    Pacific     740   \n",
              "2 2010-08-09 2010-08-09    15:15    13     Newton     946   \n",
              "3 2010-01-05 2010-01-05    01:50     6  Hollywood     900   \n",
              "4 2010-01-03 2010-01-02    21:00     1    Central     122   \n",
              "\n",
              "                                         Crm Cd Desc  Vict Age Vict Sex  \\\n",
              "0                           VIOLATION OF COURT ORDER      48.0        M   \n",
              "1  VANDALISM - FELONY ($400 & OVER, ALL CHURCH VA...       NaN        M   \n",
              "2                          OTHER MISCELLANEOUS CRIME       NaN        M   \n",
              "3                           VIOLATION OF COURT ORDER      47.0        F   \n",
              "4                                    RAPE, ATTEMPTED      47.0        F   \n",
              "\n",
              "             Vict Descent  Premis Cd             Premis Desc  Weapon Used Cd  \\\n",
              "0  Hispanic/Latin/Mexican      501.0  SINGLE FAMILY DWELLING             0.0   \n",
              "1                   White      101.0                  STREET             0.0   \n",
              "2  Hispanic/Latin/Mexican      103.0                   ALLEY             0.0   \n",
              "3                   White      101.0                  STREET           102.0   \n",
              "4  Hispanic/Latin/Mexican      103.0                   ALLEY           400.0   \n",
              "\n",
              "                                      Weapon Desc Status   Status Desc  \\\n",
              "0                                             N/A     AA  Adult Arrest   \n",
              "1                                             N/A     IC   Invest Cont   \n",
              "2                                             N/A     IC   Invest Cont   \n",
              "3                                        HAND GUN     IC   Invest Cont   \n",
              "4  STRONG-ARM (HANDS, FIST, FEET OR BODILY FORCE)     IC   Invest Cont   \n",
              "\n",
              "                                  LOCATION      LAT       LON  \n",
              "0   300 E  GAGE                         AV  33.9825 -118.2695  \n",
              "1          SEPULVEDA                    BL  33.9599 -118.3962  \n",
              "2  1300 E  21ST                         ST  34.0224 -118.2524  \n",
              "3          CAHUENGA                     BL  34.1016 -118.3295  \n",
              "4          8TH                          ST  34.0387 -118.2488  "
            ]
          },
          "execution_count": 28,
          "metadata": {},
          "output_type": "execute_result"
        }
      ],
      "source": [
        "df.head()"
      ]
    },
    {
      "cell_type": "code",
      "execution_count": null,
      "id": "7f3058b1",
      "metadata": {
        "id": "7f3058b1",
        "outputId": "82b9d83e-4dcd-4e08-c276-c23cebfd40e3"
      },
      "outputs": [
        {
          "name": "stdout",
          "output_type": "stream",
          "text": [
            "<class 'pandas.core.frame.DataFrame'>\n",
            "Int64Index: 2815076 entries, 0 to 2827880\n",
            "Data columns (total 19 columns):\n",
            " #   Column          Dtype         \n",
            "---  ------          -----         \n",
            " 0   Date Rptd       datetime64[ns]\n",
            " 1   DATE OCC        datetime64[ns]\n",
            " 2   TIME OCC        object        \n",
            " 3   AREA            int64         \n",
            " 4   AREA NAME       object        \n",
            " 5   Crm Cd          int64         \n",
            " 6   Crm Cd Desc     object        \n",
            " 7   Vict Age        float64       \n",
            " 8   Vict Sex        object        \n",
            " 9   Vict Descent    object        \n",
            " 10  Premis Cd       float64       \n",
            " 11  Premis Desc     object        \n",
            " 12  Weapon Used Cd  float64       \n",
            " 13  Weapon Desc     object        \n",
            " 14  Status          object        \n",
            " 15  Status Desc     object        \n",
            " 16  LOCATION        object        \n",
            " 17  LAT             float64       \n",
            " 18  LON             float64       \n",
            "dtypes: datetime64[ns](2), float64(5), int64(2), object(10)\n",
            "memory usage: 429.5+ MB\n"
          ]
        }
      ],
      "source": [
        "df.info()"
      ]
    }
  ],
  "metadata": {
    "kernelspec": {
      "display_name": "Python 3 (ipykernel)",
      "language": "python",
      "name": "python3"
    },
    "language_info": {
      "codemirror_mode": {
        "name": "ipython",
        "version": 3
      },
      "file_extension": ".py",
      "mimetype": "text/x-python",
      "name": "python",
      "nbconvert_exporter": "python",
      "pygments_lexer": "ipython3",
      "version": "3.8.16"
    },
    "colab": {
      "provenance": []
    }
  },
  "nbformat": 4,
  "nbformat_minor": 5
}